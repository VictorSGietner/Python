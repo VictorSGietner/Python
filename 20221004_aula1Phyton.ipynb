{
  "nbformat": 4,
  "nbformat_minor": 0,
  "metadata": {
    "colab": {
      "provenance": [],
      "authorship_tag": "ABX9TyO0WX/5wbUR46RNNpY8vs98",
      "include_colab_link": true
    },
    "kernelspec": {
      "name": "python3",
      "display_name": "Python 3"
    },
    "language_info": {
      "name": "python"
    }
  },
  "cells": [
    {
      "cell_type": "markdown",
      "metadata": {
        "id": "view-in-github",
        "colab_type": "text"
      },
      "source": [
        "<a href=\"https://colab.research.google.com/github/VictorSGietner/Python/blob/main/20221004_aula1Phyton.ipynb\" target=\"_parent\"><img src=\"https://colab.research.google.com/assets/colab-badge.svg\" alt=\"Open In Colab\"/></a>"
      ]
    },
    {
      "cell_type": "code",
      "execution_count": 4,
      "metadata": {
        "colab": {
          "base_uri": "https://localhost:8080/"
        },
        "id": "_0QCvs2KWgm-",
        "outputId": "c27f7e5f-5ab1-4120-d93a-d1bc42e12437"
      },
      "outputs": [
        {
          "output_type": "stream",
          "name": "stdout",
          "text": [
            "Ola mundo\n"
          ]
        }
      ],
      "source": [
        "x = \"Ola mundo\"\n",
        "print(x)\n"
      ]
    },
    {
      "cell_type": "code",
      "source": [
        "x, y = 10, 20\n",
        "print(x)\n",
        "print(y)"
      ],
      "metadata": {
        "colab": {
          "base_uri": "https://localhost:8080/"
        },
        "id": "z14ED-XvZEnu",
        "outputId": "764ccff0-6fe7-4af3-cac1-795eec3db176"
      },
      "execution_count": 5,
      "outputs": [
        {
          "output_type": "stream",
          "name": "stdout",
          "text": [
            "10\n",
            "20\n"
          ]
        }
      ]
    },
    {
      "cell_type": "code",
      "source": [],
      "metadata": {
        "id": "5ugc_5kdanVf"
      },
      "execution_count": null,
      "outputs": []
    },
    {
      "cell_type": "code",
      "source": [
        "num1 = int(input(\"digite um valor: \"))\n",
        "num2 = int(input(\"digite outro valor: \"))\n",
        "\n",
        "soma = num1 + num2\n",
        "print(\"A soma dos valores é: \",soma)"
      ],
      "metadata": {
        "colab": {
          "base_uri": "https://localhost:8080/"
        },
        "id": "DubGhZaRZcn1",
        "outputId": "7819bebd-12ba-4990-b61e-461af1268c49"
      },
      "execution_count": 8,
      "outputs": [
        {
          "output_type": "stream",
          "name": "stdout",
          "text": [
            "digite um valor: 1\n",
            "digite outro valor: 2\n",
            "Asoma dos valores é:  3\n"
          ]
        }
      ]
    },
    {
      "cell_type": "code",
      "source": [
        "import time\n",
        "\n",
        "nome = input(\"digite o seu nome: \")\n",
        "anoNascimento = int(input(\"digite o ano de nascimento\"))\n",
        "anoAtual = int(time.strftime(\"%Y\"))\n",
        "idade = anoAtual - anoNascimento\n",
        "\n",
        "maiorIdade = \"\"\n",
        "if idade < 18 :\n",
        "  maiorIdade = \"menor de idade\"\n",
        "\n",
        "else:\n",
        "  maiorIdade = \"maior de idade\"\n",
        "\n",
        "print(nome,\"a sua idade é de \", idade,\"você é \",maiorIdade)"
      ],
      "metadata": {
        "colab": {
          "base_uri": "https://localhost:8080/"
        },
        "id": "DW6RnJmNYdnp",
        "outputId": "2f52f1f6-8f3e-489e-826f-d73ea18f2499"
      },
      "execution_count": 15,
      "outputs": [
        {
          "output_type": "stream",
          "name": "stdout",
          "text": [
            "digite o seu nome: vitor\n",
            "digite o ano de nascimento2010\n",
            "vitor a sua idade é de  12 vocÊ é  menor de idade\n"
          ]
        }
      ]
    }
  ]
}